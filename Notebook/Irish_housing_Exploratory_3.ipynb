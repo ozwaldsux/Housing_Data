{
  "nbformat": 4,
  "nbformat_minor": 0,
  "metadata": {
    "colab": {
      "name": "Irish_housing_Exploratory_3.ipynb",
      "provenance": []
    },
    "kernelspec": {
      "name": "python3",
      "display_name": "Python 3"
    },
    "accelerator": "GPU"
  },
  "cells": [
    {
      "cell_type": "markdown",
      "metadata": {
        "id": "RVasszpGJkx4",
        "colab_type": "text"
      },
      "source": [
        "First Gdrive is mounted (Our data should already be uploaded here)"
      ]
    },
    {
      "cell_type": "code",
      "metadata": {
        "id": "PG9GLuDMiHEo",
        "colab_type": "code",
        "outputId": "b48e832a-9f65-4750-e7ae-1df0cea0da50",
        "colab": {
          "base_uri": "https://localhost:8080/",
          "height": 34
        }
      },
      "source": [
        "from google.colab import drive\n",
        "drive.mount('/content/drive')"
      ],
      "execution_count": 3,
      "outputs": [
        {
          "output_type": "stream",
          "text": [
            "Drive already mounted at /content/drive; to attempt to forcibly remount, call drive.mount(\"/content/drive\", force_remount=True).\n"
          ],
          "name": "stdout"
        }
      ]
    },
    {
      "cell_type": "markdown",
      "metadata": {
        "id": "bdCnFUyHJ2_5",
        "colab_type": "text"
      },
      "source": [
        "Next we import our libraries and setup our intial dataframe. Encoding is set to latin as there appears to be some non Utf-8 characters(I couldn't find them but maybe someone will correct me). \n"
      ]
    },
    {
      "cell_type": "code",
      "metadata": {
        "id": "4ETMp6ugjzvX",
        "colab_type": "code",
        "outputId": "72dd45c1-cab9-46c2-932d-677c3e82412c",
        "colab": {
          "base_uri": "https://localhost:8080/",
          "height": 306
        }
      },
      "source": [
        "import numpy as np\n",
        "import pandas as pd\n",
        "import matplotlib.pyplot as plt\n",
        "import csv\n",
        "\n",
        "df = pd.read_csv(\"/content/drive/My Drive/PPR_ALL.csv\", encoding=\"Latin\", thousands=',')\n",
        "df = df.loc[:, ~df.columns.str.contains('^Unnamed')]\n",
        "df.head()"
      ],
      "execution_count": 4,
      "outputs": [
        {
          "output_type": "execute_result",
          "data": {
            "text/html": [
              "<div>\n",
              "<style scoped>\n",
              "    .dataframe tbody tr th:only-of-type {\n",
              "        vertical-align: middle;\n",
              "    }\n",
              "\n",
              "    .dataframe tbody tr th {\n",
              "        vertical-align: top;\n",
              "    }\n",
              "\n",
              "    .dataframe thead th {\n",
              "        text-align: right;\n",
              "    }\n",
              "</style>\n",
              "<table border=\"1\" class=\"dataframe\">\n",
              "  <thead>\n",
              "    <tr style=\"text-align: right;\">\n",
              "      <th></th>\n",
              "      <th>Date of Sale (dd/mm/yyyy)</th>\n",
              "      <th>Address</th>\n",
              "      <th>Postal Code</th>\n",
              "      <th>County</th>\n",
              "      <th>Price ()</th>\n",
              "      <th>Not Full Market Price</th>\n",
              "      <th>VAT Exclusive</th>\n",
              "      <th>Description of Property</th>\n",
              "      <th>Property Size Description</th>\n",
              "    </tr>\n",
              "  </thead>\n",
              "  <tbody>\n",
              "    <tr>\n",
              "      <th>0</th>\n",
              "      <td>01/01/2010</td>\n",
              "      <td>5 Braemor Drive, Churchtown, Co.Dublin</td>\n",
              "      <td>NaN</td>\n",
              "      <td>Dublin</td>\n",
              "      <td>343,000.00</td>\n",
              "      <td>No</td>\n",
              "      <td>No</td>\n",
              "      <td>Second-Hand Dwelling house /Apartment</td>\n",
              "      <td>NaN</td>\n",
              "    </tr>\n",
              "    <tr>\n",
              "      <th>1</th>\n",
              "      <td>03/01/2010</td>\n",
              "      <td>134 Ashewood Walk, Summerhill Lane, Portlaoise</td>\n",
              "      <td>NaN</td>\n",
              "      <td>Laois</td>\n",
              "      <td>185,000.00</td>\n",
              "      <td>No</td>\n",
              "      <td>Yes</td>\n",
              "      <td>New Dwelling house /Apartment</td>\n",
              "      <td>greater than or equal to 38 sq metres and less...</td>\n",
              "    </tr>\n",
              "    <tr>\n",
              "      <th>2</th>\n",
              "      <td>04/01/2010</td>\n",
              "      <td>1 Meadow Avenue, Dundrum, Dublin 14</td>\n",
              "      <td>NaN</td>\n",
              "      <td>Dublin</td>\n",
              "      <td>438,500.00</td>\n",
              "      <td>No</td>\n",
              "      <td>No</td>\n",
              "      <td>Second-Hand Dwelling house /Apartment</td>\n",
              "      <td>NaN</td>\n",
              "    </tr>\n",
              "    <tr>\n",
              "      <th>3</th>\n",
              "      <td>04/01/2010</td>\n",
              "      <td>1 The Haven, Mornington</td>\n",
              "      <td>NaN</td>\n",
              "      <td>Meath</td>\n",
              "      <td>400,000.00</td>\n",
              "      <td>No</td>\n",
              "      <td>No</td>\n",
              "      <td>Second-Hand Dwelling house /Apartment</td>\n",
              "      <td>NaN</td>\n",
              "    </tr>\n",
              "    <tr>\n",
              "      <th>4</th>\n",
              "      <td>04/01/2010</td>\n",
              "      <td>11 Melville Heights, Kilkenny</td>\n",
              "      <td>NaN</td>\n",
              "      <td>Kilkenny</td>\n",
              "      <td>160,000.00</td>\n",
              "      <td>No</td>\n",
              "      <td>No</td>\n",
              "      <td>Second-Hand Dwelling house /Apartment</td>\n",
              "      <td>NaN</td>\n",
              "    </tr>\n",
              "  </tbody>\n",
              "</table>\n",
              "</div>"
            ],
            "text/plain": [
              "  Date of Sale (dd/mm/yyyy)  ...                          Property Size Description\n",
              "0                01/01/2010  ...                                                NaN\n",
              "1                03/01/2010  ...  greater than or equal to 38 sq metres and less...\n",
              "2                04/01/2010  ...                                                NaN\n",
              "3                04/01/2010  ...                                                NaN\n",
              "4                04/01/2010  ...                                                NaN\n",
              "\n",
              "[5 rows x 9 columns]"
            ]
          },
          "metadata": {
            "tags": []
          },
          "execution_count": 4
        }
      ]
    },
    {
      "cell_type": "markdown",
      "metadata": {
        "id": "KWIZOiaVKY5v",
        "colab_type": "text"
      },
      "source": [
        "\n",
        "\n",
        "\n",
        "Next check our dtypes and begin construction of a data quality report"
      ]
    },
    {
      "cell_type": "code",
      "metadata": {
        "id": "Y2x9fbR5JLqk",
        "colab_type": "code",
        "outputId": "8e6321d8-9de8-4a78-8919-a1b7cef95060",
        "colab": {
          "base_uri": "https://localhost:8080/",
          "height": 187
        }
      },
      "source": [
        "df.dtypes"
      ],
      "execution_count": 0,
      "outputs": [
        {
          "output_type": "execute_result",
          "data": {
            "text/plain": [
              "Date of Sale (dd/mm/yyyy)    object\n",
              "Address                      object\n",
              "Postal Code                  object\n",
              "County                       object\n",
              "Price ()                    object\n",
              "Not Full Market Price        object\n",
              "VAT Exclusive                object\n",
              "Description of Property      object\n",
              "Property Size Description    object\n",
              "dtype: object"
            ]
          },
          "metadata": {
            "tags": []
          },
          "execution_count": 3
        }
      ]
    },
    {
      "cell_type": "code",
      "metadata": {
        "id": "5gCWqkZC77FE",
        "colab_type": "code",
        "outputId": "18b048f2-bdee-4da9-bc0d-57b91a2aa574",
        "colab": {
          "base_uri": "https://localhost:8080/",
          "height": 34
        }
      },
      "source": [
        "df.shape"
      ],
      "execution_count": 0,
      "outputs": [
        {
          "output_type": "execute_result",
          "data": {
            "text/plain": [
              "(416380, 9)"
            ]
          },
          "metadata": {
            "tags": []
          },
          "execution_count": 4
        }
      ]
    },
    {
      "cell_type": "markdown",
      "metadata": {
        "id": "1PBRTPMUTdab",
        "colab_type": "text"
      },
      "source": [
        "Next we want to check the summary amount of missing values. As we can see, the dataset is good quality, so there is not much cleanup required. That being said, we will still want to drop columns which are missing significant amounts of values which in this case appears to be \"Postal Code\" and \"Property Size Description\"."
      ]
    },
    {
      "cell_type": "code",
      "metadata": {
        "id": "PfnFOgd4S-2H",
        "colab_type": "code",
        "outputId": "acf11606-c7ca-4d05-d4f3-ca27e12eebaa",
        "colab": {
          "base_uri": "https://localhost:8080/",
          "height": 187
        }
      },
      "source": [
        "df.isnull().sum()"
      ],
      "execution_count": 0,
      "outputs": [
        {
          "output_type": "execute_result",
          "data": {
            "text/plain": [
              "Date of Sale (dd/mm/yyyy)         0\n",
              "Address                           0\n",
              "Postal Code                  338239\n",
              "County                            0\n",
              "Price ()                         0\n",
              "Not Full Market Price             0\n",
              "VAT Exclusive                     0\n",
              "Description of Property           0\n",
              "Property Size Description    363804\n",
              "dtype: int64"
            ]
          },
          "metadata": {
            "tags": []
          },
          "execution_count": 5
        }
      ]
    },
    {
      "cell_type": "markdown",
      "metadata": {
        "id": "CdAKZLIFKk3I",
        "colab_type": "text"
      },
      "source": [
        "Drop unneeded columns and we want to remove the euro sign from all our entries in the 'Price' column. We do this by applying the following lambda function. We then set the column names to how we which them to appear and set the date as the index."
      ]
    },
    {
      "cell_type": "code",
      "metadata": {
        "id": "nS_5702OmGXT",
        "colab_type": "code",
        "outputId": "e374b0a6-f914-4657-814e-7a2ecfcaa48f",
        "colab": {
          "base_uri": "https://localhost:8080/",
          "height": 359
        }
      },
      "source": [
        "df.drop([\"Postal Code\",\"Not Full Market Price\", \"VAT Exclusive\", \"Property Size Description\", \"Description of Property\"], axis=1, inplace=True)\n",
        "df['Price ()'] = df[\"Price ()\"].apply(lambda x: ''.join([\" \" if ord(i) < 32 or ord(i) > 126 else i for i in x]))\n",
        "df.columns = ['Date','Address','County','Price']\n",
        "df.head(10)"
      ],
      "execution_count": 5,
      "outputs": [
        {
          "output_type": "execute_result",
          "data": {
            "text/html": [
              "<div>\n",
              "<style scoped>\n",
              "    .dataframe tbody tr th:only-of-type {\n",
              "        vertical-align: middle;\n",
              "    }\n",
              "\n",
              "    .dataframe tbody tr th {\n",
              "        vertical-align: top;\n",
              "    }\n",
              "\n",
              "    .dataframe thead th {\n",
              "        text-align: right;\n",
              "    }\n",
              "</style>\n",
              "<table border=\"1\" class=\"dataframe\">\n",
              "  <thead>\n",
              "    <tr style=\"text-align: right;\">\n",
              "      <th></th>\n",
              "      <th>Date</th>\n",
              "      <th>Address</th>\n",
              "      <th>County</th>\n",
              "      <th>Price</th>\n",
              "    </tr>\n",
              "  </thead>\n",
              "  <tbody>\n",
              "    <tr>\n",
              "      <th>0</th>\n",
              "      <td>01/01/2010</td>\n",
              "      <td>5 Braemor Drive, Churchtown, Co.Dublin</td>\n",
              "      <td>Dublin</td>\n",
              "      <td>343,000.00</td>\n",
              "    </tr>\n",
              "    <tr>\n",
              "      <th>1</th>\n",
              "      <td>03/01/2010</td>\n",
              "      <td>134 Ashewood Walk, Summerhill Lane, Portlaoise</td>\n",
              "      <td>Laois</td>\n",
              "      <td>185,000.00</td>\n",
              "    </tr>\n",
              "    <tr>\n",
              "      <th>2</th>\n",
              "      <td>04/01/2010</td>\n",
              "      <td>1 Meadow Avenue, Dundrum, Dublin 14</td>\n",
              "      <td>Dublin</td>\n",
              "      <td>438,500.00</td>\n",
              "    </tr>\n",
              "    <tr>\n",
              "      <th>3</th>\n",
              "      <td>04/01/2010</td>\n",
              "      <td>1 The Haven, Mornington</td>\n",
              "      <td>Meath</td>\n",
              "      <td>400,000.00</td>\n",
              "    </tr>\n",
              "    <tr>\n",
              "      <th>4</th>\n",
              "      <td>04/01/2010</td>\n",
              "      <td>11 Melville Heights, Kilkenny</td>\n",
              "      <td>Kilkenny</td>\n",
              "      <td>160,000.00</td>\n",
              "    </tr>\n",
              "    <tr>\n",
              "      <th>5</th>\n",
              "      <td>04/01/2010</td>\n",
              "      <td>12 Sallymount Avenue, Ranelagh</td>\n",
              "      <td>Dublin</td>\n",
              "      <td>425,000.00</td>\n",
              "    </tr>\n",
              "    <tr>\n",
              "      <th>6</th>\n",
              "      <td>04/01/2010</td>\n",
              "      <td>13  Oakleigh Wood, Dooradoyle, Limerick</td>\n",
              "      <td>Limerick</td>\n",
              "      <td>172,500.00</td>\n",
              "    </tr>\n",
              "    <tr>\n",
              "      <th>7</th>\n",
              "      <td>04/01/2010</td>\n",
              "      <td>13 The Drive, Chapelstown Gate, Tullow Road</td>\n",
              "      <td>Carlow</td>\n",
              "      <td>177,500.00</td>\n",
              "    </tr>\n",
              "    <tr>\n",
              "      <th>8</th>\n",
              "      <td>04/01/2010</td>\n",
              "      <td>15 Carriglawn, Waterpark, Carrigaline</td>\n",
              "      <td>Cork</td>\n",
              "      <td>180,000.00</td>\n",
              "    </tr>\n",
              "    <tr>\n",
              "      <th>9</th>\n",
              "      <td>04/01/2010</td>\n",
              "      <td>15a Moore Bay, Kilkee</td>\n",
              "      <td>Clare</td>\n",
              "      <td>126,500.00</td>\n",
              "    </tr>\n",
              "  </tbody>\n",
              "</table>\n",
              "</div>"
            ],
            "text/plain": [
              "         Date  ...        Price\n",
              "0  01/01/2010  ...   343,000.00\n",
              "1  03/01/2010  ...   185,000.00\n",
              "2  04/01/2010  ...   438,500.00\n",
              "3  04/01/2010  ...   400,000.00\n",
              "4  04/01/2010  ...   160,000.00\n",
              "5  04/01/2010  ...   425,000.00\n",
              "6  04/01/2010  ...   172,500.00\n",
              "7  04/01/2010  ...   177,500.00\n",
              "8  04/01/2010  ...   180,000.00\n",
              "9  04/01/2010  ...   126,500.00\n",
              "\n",
              "[10 rows x 4 columns]"
            ]
          },
          "metadata": {
            "tags": []
          },
          "execution_count": 5
        }
      ]
    },
    {
      "cell_type": "markdown",
      "metadata": {
        "id": "dbHm4Lq-MYP5",
        "colab_type": "text"
      },
      "source": [
        "Next, we want to remove the commas from our 'Price' column and convert the dtype to float."
      ]
    },
    {
      "cell_type": "code",
      "metadata": {
        "id": "bwQLxjWbIQel",
        "colab_type": "code",
        "colab": {}
      },
      "source": [
        "df['Price'] = pd.to_numeric(df['Price'].str.replace(',', ''), errors='coerce', downcast='integer')\n",
        "\n",
        "df['Date'] = pd.to_datetime(df.Date)"
      ],
      "execution_count": 0,
      "outputs": []
    },
    {
      "cell_type": "markdown",
      "metadata": {
        "id": "8JAZIdWSSTVq",
        "colab_type": "text"
      },
      "source": [
        "Then Convert the Price column to integers"
      ]
    },
    {
      "cell_type": "code",
      "metadata": {
        "id": "onJDxhHlPXCM",
        "colab_type": "code",
        "colab": {}
      },
      "source": [
        "df['Price'] = df['Price'].astype(int)"
      ],
      "execution_count": 0,
      "outputs": []
    },
    {
      "cell_type": "code",
      "metadata": {
        "id": "_941pfirJfpq",
        "colab_type": "code",
        "outputId": "d30f8789-f53e-461d-de58-7a899b5e1810",
        "colab": {
          "base_uri": "https://localhost:8080/",
          "height": 102
        }
      },
      "source": [
        "df.dtypes"
      ],
      "execution_count": 0,
      "outputs": [
        {
          "output_type": "execute_result",
          "data": {
            "text/plain": [
              "Date       datetime64[ns]\n",
              "Address            object\n",
              "County             object\n",
              "Price               int64\n",
              "dtype: object"
            ]
          },
          "metadata": {
            "tags": []
          },
          "execution_count": 9
        }
      ]
    },
    {
      "cell_type": "markdown",
      "metadata": {
        "id": "JUO-5CBoSjPh",
        "colab_type": "text"
      },
      "source": [
        "We have now cleaned up our data"
      ]
    },
    {
      "cell_type": "code",
      "metadata": {
        "id": "Wzv1HgkFeERL",
        "colab_type": "code",
        "outputId": "3ad4be4b-1693-45ec-96f7-785ee446b8f9",
        "colab": {
          "base_uri": "https://localhost:8080/",
          "height": 443
        }
      },
      "source": [
        "df['Address'] = df['Address'].astype(str)\n"
      ],
      "execution_count": 0,
      "outputs": [
        {
          "output_type": "error",
          "ename": "KeyboardInterrupt",
          "evalue": "ignored",
          "traceback": [
            "\u001b[0;31m---------------------------------------------------------------------------\u001b[0m",
            "\u001b[0;31mKeyboardInterrupt\u001b[0m                         Traceback (most recent call last)",
            "\u001b[0;32m<ipython-input-8-6b3297a769b6>\u001b[0m in \u001b[0;36m<module>\u001b[0;34m()\u001b[0m\n\u001b[1;32m      3\u001b[0m df['Postcode'] = np.select([df['Address'].str.contains('Arklow', case=False), \n\u001b[1;32m      4\u001b[0m                             \u001b[0mdf\u001b[0m\u001b[0;34m[\u001b[0m\u001b[0;34m'Address'\u001b[0m\u001b[0;34m]\u001b[0m\u001b[0;34m.\u001b[0m\u001b[0mstr\u001b[0m\u001b[0;34m.\u001b[0m\u001b[0mcontains\u001b[0m\u001b[0;34m(\u001b[0m\u001b[0;34m'Ashbourne'\u001b[0m\u001b[0;34m,\u001b[0m \u001b[0mcase\u001b[0m\u001b[0;34m=\u001b[0m\u001b[0;32mFalse\u001b[0m\u001b[0;34m)\u001b[0m\u001b[0;34m,\u001b[0m\u001b[0;34m\u001b[0m\u001b[0;34m\u001b[0m\u001b[0m\n\u001b[0;32m----> 5\u001b[0;31m                             \u001b[0mdf\u001b[0m\u001b[0;34m[\u001b[0m\u001b[0;34m'Address'\u001b[0m\u001b[0;34m]\u001b[0m\u001b[0;34m.\u001b[0m\u001b[0mstr\u001b[0m\u001b[0;34m.\u001b[0m\u001b[0mcontains\u001b[0m\u001b[0;34m(\u001b[0m\u001b[0;34m'Athenry'\u001b[0m\u001b[0;34m,\u001b[0m \u001b[0mcase\u001b[0m\u001b[0;34m=\u001b[0m\u001b[0;32mFalse\u001b[0m\u001b[0;34m)\u001b[0m\u001b[0;34m,\u001b[0m\u001b[0;34m\u001b[0m\u001b[0;34m\u001b[0m\u001b[0m\n\u001b[0m\u001b[1;32m      6\u001b[0m                             \u001b[0mdf\u001b[0m\u001b[0;34m[\u001b[0m\u001b[0;34m'Address'\u001b[0m\u001b[0;34m]\u001b[0m\u001b[0;34m.\u001b[0m\u001b[0mstr\u001b[0m\u001b[0;34m.\u001b[0m\u001b[0mcontains\u001b[0m\u001b[0;34m(\u001b[0m\u001b[0;34m'Athlone'\u001b[0m\u001b[0;34m,\u001b[0m \u001b[0mcase\u001b[0m\u001b[0;34m=\u001b[0m\u001b[0;32mFalse\u001b[0m\u001b[0;34m)\u001b[0m\u001b[0;34m,\u001b[0m\u001b[0;34m\u001b[0m\u001b[0;34m\u001b[0m\u001b[0m\n\u001b[1;32m      7\u001b[0m                             \u001b[0mdf\u001b[0m\u001b[0;34m[\u001b[0m\u001b[0;34m'Address'\u001b[0m\u001b[0;34m]\u001b[0m\u001b[0;34m.\u001b[0m\u001b[0mstr\u001b[0m\u001b[0;34m.\u001b[0m\u001b[0mcontains\u001b[0m\u001b[0;34m(\u001b[0m\u001b[0;34m'Athy'\u001b[0m\u001b[0;34m,\u001b[0m \u001b[0mcase\u001b[0m\u001b[0;34m=\u001b[0m\u001b[0;32mFalse\u001b[0m\u001b[0;34m)\u001b[0m\u001b[0;34m,\u001b[0m\u001b[0;34m\u001b[0m\u001b[0;34m\u001b[0m\u001b[0m\n",
            "\u001b[0;32m/usr/local/lib/python3.6/dist-packages/pandas/core/strings.py\u001b[0m in \u001b[0;36mwrapper\u001b[0;34m(self, *args, **kwargs)\u001b[0m\n\u001b[1;32m   1952\u001b[0m                 )\n\u001b[1;32m   1953\u001b[0m                 \u001b[0;32mraise\u001b[0m \u001b[0mTypeError\u001b[0m\u001b[0;34m(\u001b[0m\u001b[0mmsg\u001b[0m\u001b[0;34m)\u001b[0m\u001b[0;34m\u001b[0m\u001b[0;34m\u001b[0m\u001b[0m\n\u001b[0;32m-> 1954\u001b[0;31m             \u001b[0;32mreturn\u001b[0m \u001b[0mfunc\u001b[0m\u001b[0;34m(\u001b[0m\u001b[0mself\u001b[0m\u001b[0;34m,\u001b[0m \u001b[0;34m*\u001b[0m\u001b[0margs\u001b[0m\u001b[0;34m,\u001b[0m \u001b[0;34m**\u001b[0m\u001b[0mkwargs\u001b[0m\u001b[0;34m)\u001b[0m\u001b[0;34m\u001b[0m\u001b[0;34m\u001b[0m\u001b[0m\n\u001b[0m\u001b[1;32m   1955\u001b[0m \u001b[0;34m\u001b[0m\u001b[0m\n\u001b[1;32m   1956\u001b[0m         \u001b[0mwrapper\u001b[0m\u001b[0;34m.\u001b[0m\u001b[0m__name__\u001b[0m \u001b[0;34m=\u001b[0m \u001b[0mfunc_name\u001b[0m\u001b[0;34m\u001b[0m\u001b[0;34m\u001b[0m\u001b[0m\n",
            "\u001b[0;32m/usr/local/lib/python3.6/dist-packages/pandas/core/strings.py\u001b[0m in \u001b[0;36mcontains\u001b[0;34m(self, pat, case, flags, na, regex)\u001b[0m\n\u001b[1;32m   2761\u001b[0m     \u001b[0;32mdef\u001b[0m \u001b[0mcontains\u001b[0m\u001b[0;34m(\u001b[0m\u001b[0mself\u001b[0m\u001b[0;34m,\u001b[0m \u001b[0mpat\u001b[0m\u001b[0;34m,\u001b[0m \u001b[0mcase\u001b[0m\u001b[0;34m=\u001b[0m\u001b[0;32mTrue\u001b[0m\u001b[0;34m,\u001b[0m \u001b[0mflags\u001b[0m\u001b[0;34m=\u001b[0m\u001b[0;36m0\u001b[0m\u001b[0;34m,\u001b[0m \u001b[0mna\u001b[0m\u001b[0;34m=\u001b[0m\u001b[0mnp\u001b[0m\u001b[0;34m.\u001b[0m\u001b[0mnan\u001b[0m\u001b[0;34m,\u001b[0m \u001b[0mregex\u001b[0m\u001b[0;34m=\u001b[0m\u001b[0;32mTrue\u001b[0m\u001b[0;34m)\u001b[0m\u001b[0;34m:\u001b[0m\u001b[0;34m\u001b[0m\u001b[0;34m\u001b[0m\u001b[0m\n\u001b[1;32m   2762\u001b[0m         result = str_contains(\n\u001b[0;32m-> 2763\u001b[0;31m             \u001b[0mself\u001b[0m\u001b[0;34m.\u001b[0m\u001b[0m_parent\u001b[0m\u001b[0;34m,\u001b[0m \u001b[0mpat\u001b[0m\u001b[0;34m,\u001b[0m \u001b[0mcase\u001b[0m\u001b[0;34m=\u001b[0m\u001b[0mcase\u001b[0m\u001b[0;34m,\u001b[0m \u001b[0mflags\u001b[0m\u001b[0;34m=\u001b[0m\u001b[0mflags\u001b[0m\u001b[0;34m,\u001b[0m \u001b[0mna\u001b[0m\u001b[0;34m=\u001b[0m\u001b[0mna\u001b[0m\u001b[0;34m,\u001b[0m \u001b[0mregex\u001b[0m\u001b[0;34m=\u001b[0m\u001b[0mregex\u001b[0m\u001b[0;34m\u001b[0m\u001b[0;34m\u001b[0m\u001b[0m\n\u001b[0m\u001b[1;32m   2764\u001b[0m         )\n\u001b[1;32m   2765\u001b[0m         \u001b[0;32mreturn\u001b[0m \u001b[0mself\u001b[0m\u001b[0;34m.\u001b[0m\u001b[0m_wrap_result\u001b[0m\u001b[0;34m(\u001b[0m\u001b[0mresult\u001b[0m\u001b[0;34m,\u001b[0m \u001b[0mfill_value\u001b[0m\u001b[0;34m=\u001b[0m\u001b[0mna\u001b[0m\u001b[0;34m,\u001b[0m \u001b[0mreturns_string\u001b[0m\u001b[0;34m=\u001b[0m\u001b[0;32mFalse\u001b[0m\u001b[0;34m)\u001b[0m\u001b[0;34m\u001b[0m\u001b[0;34m\u001b[0m\u001b[0m\n",
            "\u001b[0;32m/usr/local/lib/python3.6/dist-packages/pandas/core/strings.py\u001b[0m in \u001b[0;36mstr_contains\u001b[0;34m(arr, pat, case, flags, na, regex)\u001b[0m\n\u001b[1;32m    458\u001b[0m             \u001b[0muppered\u001b[0m \u001b[0;34m=\u001b[0m \u001b[0m_na_map\u001b[0m\u001b[0;34m(\u001b[0m\u001b[0;32mlambda\u001b[0m \u001b[0mx\u001b[0m\u001b[0;34m:\u001b[0m \u001b[0mx\u001b[0m\u001b[0;34m.\u001b[0m\u001b[0mupper\u001b[0m\u001b[0;34m(\u001b[0m\u001b[0;34m)\u001b[0m\u001b[0;34m,\u001b[0m \u001b[0marr\u001b[0m\u001b[0;34m)\u001b[0m\u001b[0;34m\u001b[0m\u001b[0;34m\u001b[0m\u001b[0m\n\u001b[1;32m    459\u001b[0m             \u001b[0;32mreturn\u001b[0m \u001b[0m_na_map\u001b[0m\u001b[0;34m(\u001b[0m\u001b[0mf\u001b[0m\u001b[0;34m,\u001b[0m \u001b[0muppered\u001b[0m\u001b[0;34m,\u001b[0m \u001b[0mna\u001b[0m\u001b[0;34m,\u001b[0m \u001b[0mdtype\u001b[0m\u001b[0;34m=\u001b[0m\u001b[0mbool\u001b[0m\u001b[0;34m)\u001b[0m\u001b[0;34m\u001b[0m\u001b[0;34m\u001b[0m\u001b[0m\n\u001b[0;32m--> 460\u001b[0;31m     \u001b[0;32mreturn\u001b[0m \u001b[0m_na_map\u001b[0m\u001b[0;34m(\u001b[0m\u001b[0mf\u001b[0m\u001b[0;34m,\u001b[0m \u001b[0marr\u001b[0m\u001b[0;34m,\u001b[0m \u001b[0mna\u001b[0m\u001b[0;34m,\u001b[0m \u001b[0mdtype\u001b[0m\u001b[0;34m=\u001b[0m\u001b[0mbool\u001b[0m\u001b[0;34m)\u001b[0m\u001b[0;34m\u001b[0m\u001b[0;34m\u001b[0m\u001b[0m\n\u001b[0m\u001b[1;32m    461\u001b[0m \u001b[0;34m\u001b[0m\u001b[0m\n\u001b[1;32m    462\u001b[0m \u001b[0;34m\u001b[0m\u001b[0m\n",
            "\u001b[0;32m/usr/local/lib/python3.6/dist-packages/pandas/core/strings.py\u001b[0m in \u001b[0;36m_na_map\u001b[0;34m(f, arr, na_result, dtype)\u001b[0m\n\u001b[1;32m    129\u001b[0m     \u001b[0;32mif\u001b[0m \u001b[0mna_result\u001b[0m \u001b[0;32mis\u001b[0m \u001b[0;32mNone\u001b[0m\u001b[0;34m:\u001b[0m\u001b[0;34m\u001b[0m\u001b[0;34m\u001b[0m\u001b[0m\n\u001b[1;32m    130\u001b[0m         \u001b[0mna_result\u001b[0m \u001b[0;34m=\u001b[0m \u001b[0mnp\u001b[0m\u001b[0;34m.\u001b[0m\u001b[0mnan\u001b[0m\u001b[0;34m\u001b[0m\u001b[0;34m\u001b[0m\u001b[0m\n\u001b[0;32m--> 131\u001b[0;31m     \u001b[0;32mreturn\u001b[0m \u001b[0m_map_object\u001b[0m\u001b[0;34m(\u001b[0m\u001b[0mf\u001b[0m\u001b[0;34m,\u001b[0m \u001b[0marr\u001b[0m\u001b[0;34m,\u001b[0m \u001b[0mna_mask\u001b[0m\u001b[0;34m=\u001b[0m\u001b[0;32mTrue\u001b[0m\u001b[0;34m,\u001b[0m \u001b[0mna_value\u001b[0m\u001b[0;34m=\u001b[0m\u001b[0mna_result\u001b[0m\u001b[0;34m,\u001b[0m \u001b[0mdtype\u001b[0m\u001b[0;34m=\u001b[0m\u001b[0mdtype\u001b[0m\u001b[0;34m)\u001b[0m\u001b[0;34m\u001b[0m\u001b[0;34m\u001b[0m\u001b[0m\n\u001b[0m\u001b[1;32m    132\u001b[0m \u001b[0;34m\u001b[0m\u001b[0m\n\u001b[1;32m    133\u001b[0m \u001b[0;34m\u001b[0m\u001b[0m\n",
            "\u001b[0;32m/usr/local/lib/python3.6/dist-packages/pandas/core/strings.py\u001b[0m in \u001b[0;36m_map_object\u001b[0;34m(f, arr, na_mask, na_value, dtype)\u001b[0m\n\u001b[1;32m    214\u001b[0m         \u001b[0mconvert\u001b[0m \u001b[0;34m=\u001b[0m \u001b[0;32mnot\u001b[0m \u001b[0mnp\u001b[0m\u001b[0;34m.\u001b[0m\u001b[0mall\u001b[0m\u001b[0;34m(\u001b[0m\u001b[0mmask\u001b[0m\u001b[0;34m)\u001b[0m\u001b[0;34m\u001b[0m\u001b[0;34m\u001b[0m\u001b[0m\n\u001b[1;32m    215\u001b[0m         \u001b[0;32mtry\u001b[0m\u001b[0;34m:\u001b[0m\u001b[0;34m\u001b[0m\u001b[0;34m\u001b[0m\u001b[0m\n\u001b[0;32m--> 216\u001b[0;31m             \u001b[0mresult\u001b[0m \u001b[0;34m=\u001b[0m \u001b[0mlib\u001b[0m\u001b[0;34m.\u001b[0m\u001b[0mmap_infer_mask\u001b[0m\u001b[0;34m(\u001b[0m\u001b[0marr\u001b[0m\u001b[0;34m,\u001b[0m \u001b[0mf\u001b[0m\u001b[0;34m,\u001b[0m \u001b[0mmask\u001b[0m\u001b[0;34m.\u001b[0m\u001b[0mview\u001b[0m\u001b[0;34m(\u001b[0m\u001b[0mnp\u001b[0m\u001b[0;34m.\u001b[0m\u001b[0muint8\u001b[0m\u001b[0;34m)\u001b[0m\u001b[0;34m,\u001b[0m \u001b[0mconvert\u001b[0m\u001b[0;34m)\u001b[0m\u001b[0;34m\u001b[0m\u001b[0;34m\u001b[0m\u001b[0m\n\u001b[0m\u001b[1;32m    217\u001b[0m         \u001b[0;32mexcept\u001b[0m \u001b[0;34m(\u001b[0m\u001b[0mTypeError\u001b[0m\u001b[0;34m,\u001b[0m \u001b[0mAttributeError\u001b[0m\u001b[0;34m)\u001b[0m \u001b[0;32mas\u001b[0m \u001b[0me\u001b[0m\u001b[0;34m:\u001b[0m\u001b[0;34m\u001b[0m\u001b[0;34m\u001b[0m\u001b[0m\n\u001b[1;32m    218\u001b[0m             \u001b[0;31m# Reraise the exception if callable `f` got wrong number of args.\u001b[0m\u001b[0;34m\u001b[0m\u001b[0;34m\u001b[0m\u001b[0;34m\u001b[0m\u001b[0m\n",
            "\u001b[0;32mpandas/_libs/lib.pyx\u001b[0m in \u001b[0;36mpandas._libs.lib.map_infer_mask\u001b[0;34m()\u001b[0m\n",
            "\u001b[0;32mpandas/_libs/lib.pyx\u001b[0m in \u001b[0;36mpandas._libs.lib.maybe_convert_objects\u001b[0;34m()\u001b[0m\n",
            "\u001b[0;32m/usr/local/lib/python3.6/dist-packages/numpy/core/numeric.py\u001b[0m in \u001b[0;36mfull\u001b[0;34m(shape, fill_value, dtype, order)\u001b[0m\n\u001b[1;32m    281\u001b[0m \u001b[0;34m\u001b[0m\u001b[0m\n\u001b[1;32m    282\u001b[0m \u001b[0;34m\u001b[0m\u001b[0m\n\u001b[0;32m--> 283\u001b[0;31m \u001b[0;34m@\u001b[0m\u001b[0mset_module\u001b[0m\u001b[0;34m(\u001b[0m\u001b[0;34m'numpy'\u001b[0m\u001b[0;34m)\u001b[0m\u001b[0;34m\u001b[0m\u001b[0;34m\u001b[0m\u001b[0m\n\u001b[0m\u001b[1;32m    284\u001b[0m \u001b[0;32mdef\u001b[0m \u001b[0mfull\u001b[0m\u001b[0;34m(\u001b[0m\u001b[0mshape\u001b[0m\u001b[0;34m,\u001b[0m \u001b[0mfill_value\u001b[0m\u001b[0;34m,\u001b[0m \u001b[0mdtype\u001b[0m\u001b[0;34m=\u001b[0m\u001b[0;32mNone\u001b[0m\u001b[0;34m,\u001b[0m \u001b[0morder\u001b[0m\u001b[0;34m=\u001b[0m\u001b[0;34m'C'\u001b[0m\u001b[0;34m)\u001b[0m\u001b[0;34m:\u001b[0m\u001b[0;34m\u001b[0m\u001b[0;34m\u001b[0m\u001b[0m\n\u001b[1;32m    285\u001b[0m     \"\"\"\n",
            "\u001b[0;31mKeyboardInterrupt\u001b[0m: "
          ]
        }
      ]
    },
    {
      "cell_type": "code",
      "metadata": {
        "id": "fB5it_hDlqnF",
        "colab_type": "code",
        "outputId": "396c34b8-e115-4cc8-8560-ff92402b9aac",
        "colab": {
          "base_uri": "https://localhost:8080/",
          "height": 669
        }
      },
      "source": [
        "df.head(20)"
      ],
      "execution_count": 0,
      "outputs": [
        {
          "output_type": "execute_result",
          "data": {
            "text/html": [
              "<div>\n",
              "<style scoped>\n",
              "    .dataframe tbody tr th:only-of-type {\n",
              "        vertical-align: middle;\n",
              "    }\n",
              "\n",
              "    .dataframe tbody tr th {\n",
              "        vertical-align: top;\n",
              "    }\n",
              "\n",
              "    .dataframe thead th {\n",
              "        text-align: right;\n",
              "    }\n",
              "</style>\n",
              "<table border=\"1\" class=\"dataframe\">\n",
              "  <thead>\n",
              "    <tr style=\"text-align: right;\">\n",
              "      <th></th>\n",
              "      <th>Date</th>\n",
              "      <th>Address</th>\n",
              "      <th>County</th>\n",
              "      <th>Price</th>\n",
              "    </tr>\n",
              "  </thead>\n",
              "  <tbody>\n",
              "    <tr>\n",
              "      <th>0</th>\n",
              "      <td>2010-01-01</td>\n",
              "      <td>5 Braemor Drive, Churchtown, Co.Dublin</td>\n",
              "      <td>Dublin</td>\n",
              "      <td>343000</td>\n",
              "    </tr>\n",
              "    <tr>\n",
              "      <th>1</th>\n",
              "      <td>2010-03-01</td>\n",
              "      <td>134 Ashewood Walk, Summerhill Lane, Portlaoise</td>\n",
              "      <td>Laois</td>\n",
              "      <td>185000</td>\n",
              "    </tr>\n",
              "    <tr>\n",
              "      <th>2</th>\n",
              "      <td>2010-04-01</td>\n",
              "      <td>1 Meadow Avenue, Dundrum, Dublin 14</td>\n",
              "      <td>Dublin</td>\n",
              "      <td>438500</td>\n",
              "    </tr>\n",
              "    <tr>\n",
              "      <th>3</th>\n",
              "      <td>2010-04-01</td>\n",
              "      <td>1 The Haven, Mornington</td>\n",
              "      <td>Meath</td>\n",
              "      <td>400000</td>\n",
              "    </tr>\n",
              "    <tr>\n",
              "      <th>4</th>\n",
              "      <td>2010-04-01</td>\n",
              "      <td>11 Melville Heights, Kilkenny</td>\n",
              "      <td>Kilkenny</td>\n",
              "      <td>160000</td>\n",
              "    </tr>\n",
              "    <tr>\n",
              "      <th>5</th>\n",
              "      <td>2010-04-01</td>\n",
              "      <td>12 Sallymount Avenue, Ranelagh</td>\n",
              "      <td>Dublin</td>\n",
              "      <td>425000</td>\n",
              "    </tr>\n",
              "    <tr>\n",
              "      <th>6</th>\n",
              "      <td>2010-04-01</td>\n",
              "      <td>13  Oakleigh Wood, Dooradoyle, Limerick</td>\n",
              "      <td>Limerick</td>\n",
              "      <td>172500</td>\n",
              "    </tr>\n",
              "    <tr>\n",
              "      <th>7</th>\n",
              "      <td>2010-04-01</td>\n",
              "      <td>13 The Drive, Chapelstown Gate, Tullow Road</td>\n",
              "      <td>Carlow</td>\n",
              "      <td>177500</td>\n",
              "    </tr>\n",
              "    <tr>\n",
              "      <th>8</th>\n",
              "      <td>2010-04-01</td>\n",
              "      <td>15 Carriglawn, Waterpark, Carrigaline</td>\n",
              "      <td>Cork</td>\n",
              "      <td>180000</td>\n",
              "    </tr>\n",
              "    <tr>\n",
              "      <th>9</th>\n",
              "      <td>2010-04-01</td>\n",
              "      <td>15a Moore Bay, Kilkee</td>\n",
              "      <td>Clare</td>\n",
              "      <td>126500</td>\n",
              "    </tr>\n",
              "    <tr>\n",
              "      <th>10</th>\n",
              "      <td>2010-04-01</td>\n",
              "      <td>16 Aisling Geal, Fr. Russell Road</td>\n",
              "      <td>Limerick</td>\n",
              "      <td>110000</td>\n",
              "    </tr>\n",
              "    <tr>\n",
              "      <th>11</th>\n",
              "      <td>2010-04-01</td>\n",
              "      <td>206 Philipsburgh Avenue, Marino, Dublin 3</td>\n",
              "      <td>Dublin</td>\n",
              "      <td>430000</td>\n",
              "    </tr>\n",
              "    <tr>\n",
              "      <th>12</th>\n",
              "      <td>2010-04-01</td>\n",
              "      <td>22 Laverna Way, Castleknock, Dublin 15</td>\n",
              "      <td>Dublin</td>\n",
              "      <td>355000</td>\n",
              "    </tr>\n",
              "    <tr>\n",
              "      <th>13</th>\n",
              "      <td>2010-04-01</td>\n",
              "      <td>23 Elton Park, Sandycove</td>\n",
              "      <td>Dublin</td>\n",
              "      <td>1800000</td>\n",
              "    </tr>\n",
              "    <tr>\n",
              "      <th>14</th>\n",
              "      <td>2010-04-01</td>\n",
              "      <td>25  Lavallin Drive, Whitechurch, Cork</td>\n",
              "      <td>Cork</td>\n",
              "      <td>352000</td>\n",
              "    </tr>\n",
              "    <tr>\n",
              "      <th>15</th>\n",
              "      <td>2010-04-01</td>\n",
              "      <td>25 Fairway Lawns, Bettystown</td>\n",
              "      <td>Meath</td>\n",
              "      <td>273000</td>\n",
              "    </tr>\n",
              "    <tr>\n",
              "      <th>16</th>\n",
              "      <td>2010-04-01</td>\n",
              "      <td>29 Carysfort Woods, Blackrock</td>\n",
              "      <td>Dublin</td>\n",
              "      <td>547500</td>\n",
              "    </tr>\n",
              "    <tr>\n",
              "      <th>17</th>\n",
              "      <td>2010-04-01</td>\n",
              "      <td>33 RAGIAN ROAD, BALLSBRIDGE, DUBLIN 4</td>\n",
              "      <td>Dublin</td>\n",
              "      <td>700000</td>\n",
              "    </tr>\n",
              "    <tr>\n",
              "      <th>18</th>\n",
              "      <td>2010-04-01</td>\n",
              "      <td>4 Hawthorn Court, Collooney</td>\n",
              "      <td>Sligo</td>\n",
              "      <td>220000</td>\n",
              "    </tr>\n",
              "    <tr>\n",
              "      <th>19</th>\n",
              "      <td>2010-04-01</td>\n",
              "      <td>44 Allen Park Road, Stillorgan, County Dublin</td>\n",
              "      <td>Dublin</td>\n",
              "      <td>350000</td>\n",
              "    </tr>\n",
              "  </tbody>\n",
              "</table>\n",
              "</div>"
            ],
            "text/plain": [
              "         Date  ...    Price\n",
              "0  2010-01-01  ...   343000\n",
              "1  2010-03-01  ...   185000\n",
              "2  2010-04-01  ...   438500\n",
              "3  2010-04-01  ...   400000\n",
              "4  2010-04-01  ...   160000\n",
              "5  2010-04-01  ...   425000\n",
              "6  2010-04-01  ...   172500\n",
              "7  2010-04-01  ...   177500\n",
              "8  2010-04-01  ...   180000\n",
              "9  2010-04-01  ...   126500\n",
              "10 2010-04-01  ...   110000\n",
              "11 2010-04-01  ...   430000\n",
              "12 2010-04-01  ...   355000\n",
              "13 2010-04-01  ...  1800000\n",
              "14 2010-04-01  ...   352000\n",
              "15 2010-04-01  ...   273000\n",
              "16 2010-04-01  ...   547500\n",
              "17 2010-04-01  ...   700000\n",
              "18 2010-04-01  ...   220000\n",
              "19 2010-04-01  ...   350000\n",
              "\n",
              "[20 rows x 4 columns]"
            ]
          },
          "metadata": {
            "tags": []
          },
          "execution_count": 9
        }
      ]
    },
    {
      "cell_type": "markdown",
      "metadata": {
        "id": "PYh3NQd9If-2",
        "colab_type": "text"
      },
      "source": [
        "Now we want to prepare the data for the geomap. After many iterations and trials, I decided to display average prices by county for 2019"
      ]
    },
    {
      "cell_type": "code",
      "metadata": {
        "id": "XnWbC1hw5ZOG",
        "colab_type": "code",
        "outputId": "a192c751-ec45-477d-a549-6f2ee0573430",
        "colab": {
          "base_uri": "https://localhost:8080/",
          "height": 855
        }
      },
      "source": [
        "import datetime as dt\n",
        "\n",
        "county_price = df[df['Date'].dt.year == 2019]\n",
        "county_price = county_price.groupby(county_price['County'], as_index=False)['Price'].mean()\n",
        "county_price[\"Price\"] = county_price[\"Price\"].astype(int)\n",
        "\n",
        "county_price.head(26)"
      ],
      "execution_count": 0,
      "outputs": [
        {
          "output_type": "execute_result",
          "data": {
            "text/html": [
              "<div>\n",
              "<style scoped>\n",
              "    .dataframe tbody tr th:only-of-type {\n",
              "        vertical-align: middle;\n",
              "    }\n",
              "\n",
              "    .dataframe tbody tr th {\n",
              "        vertical-align: top;\n",
              "    }\n",
              "\n",
              "    .dataframe thead th {\n",
              "        text-align: right;\n",
              "    }\n",
              "</style>\n",
              "<table border=\"1\" class=\"dataframe\">\n",
              "  <thead>\n",
              "    <tr style=\"text-align: right;\">\n",
              "      <th></th>\n",
              "      <th>County</th>\n",
              "      <th>Price</th>\n",
              "    </tr>\n",
              "  </thead>\n",
              "  <tbody>\n",
              "    <tr>\n",
              "      <th>0</th>\n",
              "      <td>Carlow</td>\n",
              "      <td>175830</td>\n",
              "    </tr>\n",
              "    <tr>\n",
              "      <th>1</th>\n",
              "      <td>Cavan</td>\n",
              "      <td>145972</td>\n",
              "    </tr>\n",
              "    <tr>\n",
              "      <th>2</th>\n",
              "      <td>Clare</td>\n",
              "      <td>188013</td>\n",
              "    </tr>\n",
              "    <tr>\n",
              "      <th>3</th>\n",
              "      <td>Cork</td>\n",
              "      <td>263284</td>\n",
              "    </tr>\n",
              "    <tr>\n",
              "      <th>4</th>\n",
              "      <td>Donegal</td>\n",
              "      <td>127542</td>\n",
              "    </tr>\n",
              "    <tr>\n",
              "      <th>5</th>\n",
              "      <td>Dublin</td>\n",
              "      <td>499604</td>\n",
              "    </tr>\n",
              "    <tr>\n",
              "      <th>6</th>\n",
              "      <td>Galway</td>\n",
              "      <td>246752</td>\n",
              "    </tr>\n",
              "    <tr>\n",
              "      <th>7</th>\n",
              "      <td>Kerry</td>\n",
              "      <td>185436</td>\n",
              "    </tr>\n",
              "    <tr>\n",
              "      <th>8</th>\n",
              "      <td>Kildare</td>\n",
              "      <td>303697</td>\n",
              "    </tr>\n",
              "    <tr>\n",
              "      <th>9</th>\n",
              "      <td>Kilkenny</td>\n",
              "      <td>215084</td>\n",
              "    </tr>\n",
              "    <tr>\n",
              "      <th>10</th>\n",
              "      <td>Laois</td>\n",
              "      <td>175789</td>\n",
              "    </tr>\n",
              "    <tr>\n",
              "      <th>11</th>\n",
              "      <td>Leitrim</td>\n",
              "      <td>116242</td>\n",
              "    </tr>\n",
              "    <tr>\n",
              "      <th>12</th>\n",
              "      <td>Limerick</td>\n",
              "      <td>201494</td>\n",
              "    </tr>\n",
              "    <tr>\n",
              "      <th>13</th>\n",
              "      <td>Longford</td>\n",
              "      <td>123324</td>\n",
              "    </tr>\n",
              "    <tr>\n",
              "      <th>14</th>\n",
              "      <td>Louth</td>\n",
              "      <td>218716</td>\n",
              "    </tr>\n",
              "    <tr>\n",
              "      <th>15</th>\n",
              "      <td>Mayo</td>\n",
              "      <td>140590</td>\n",
              "    </tr>\n",
              "    <tr>\n",
              "      <th>16</th>\n",
              "      <td>Meath</td>\n",
              "      <td>276470</td>\n",
              "    </tr>\n",
              "    <tr>\n",
              "      <th>17</th>\n",
              "      <td>Monaghan</td>\n",
              "      <td>152966</td>\n",
              "    </tr>\n",
              "    <tr>\n",
              "      <th>18</th>\n",
              "      <td>Offaly</td>\n",
              "      <td>159571</td>\n",
              "    </tr>\n",
              "    <tr>\n",
              "      <th>19</th>\n",
              "      <td>Roscommon</td>\n",
              "      <td>125947</td>\n",
              "    </tr>\n",
              "    <tr>\n",
              "      <th>20</th>\n",
              "      <td>Sligo</td>\n",
              "      <td>149115</td>\n",
              "    </tr>\n",
              "    <tr>\n",
              "      <th>21</th>\n",
              "      <td>Tipperary</td>\n",
              "      <td>160272</td>\n",
              "    </tr>\n",
              "    <tr>\n",
              "      <th>22</th>\n",
              "      <td>Waterford</td>\n",
              "      <td>192243</td>\n",
              "    </tr>\n",
              "    <tr>\n",
              "      <th>23</th>\n",
              "      <td>Westmeath</td>\n",
              "      <td>180478</td>\n",
              "    </tr>\n",
              "    <tr>\n",
              "      <th>24</th>\n",
              "      <td>Wexford</td>\n",
              "      <td>189431</td>\n",
              "    </tr>\n",
              "    <tr>\n",
              "      <th>25</th>\n",
              "      <td>Wicklow</td>\n",
              "      <td>353933</td>\n",
              "    </tr>\n",
              "  </tbody>\n",
              "</table>\n",
              "</div>"
            ],
            "text/plain": [
              "       County   Price\n",
              "0      Carlow  175830\n",
              "1       Cavan  145972\n",
              "2       Clare  188013\n",
              "3        Cork  263284\n",
              "4     Donegal  127542\n",
              "5      Dublin  499604\n",
              "6      Galway  246752\n",
              "7       Kerry  185436\n",
              "8     Kildare  303697\n",
              "9    Kilkenny  215084\n",
              "10      Laois  175789\n",
              "11    Leitrim  116242\n",
              "12   Limerick  201494\n",
              "13   Longford  123324\n",
              "14      Louth  218716\n",
              "15       Mayo  140590\n",
              "16      Meath  276470\n",
              "17   Monaghan  152966\n",
              "18     Offaly  159571\n",
              "19  Roscommon  125947\n",
              "20      Sligo  149115\n",
              "21  Tipperary  160272\n",
              "22  Waterford  192243\n",
              "23  Westmeath  180478\n",
              "24    Wexford  189431\n",
              "25    Wicklow  353933"
            ]
          },
          "metadata": {
            "tags": []
          },
          "execution_count": 10
        }
      ]
    },
    {
      "cell_type": "markdown",
      "metadata": {
        "id": "Tu82WF_kImyr",
        "colab_type": "text"
      },
      "source": [
        "Next we need to load our \"Counties.csv\". This is list of counties and their coordinates which we will use to plot on the map alongside the average prices for 2019."
      ]
    },
    {
      "cell_type": "code",
      "metadata": {
        "id": "KV3G7OWmS-rL",
        "colab_type": "code",
        "outputId": "28b5fd6d-d36a-4d96-9899-d1df1d85fc69",
        "colab": {
          "base_uri": "https://localhost:8080/",
          "height": 204
        }
      },
      "source": [
        "df2 = pd.read_csv(\"/content/counties.csv\")\n",
        "df2 = df2.loc[:, ~df2.columns.str.contains('^Unnamed')]\n",
        "df2.head()"
      ],
      "execution_count": 0,
      "outputs": [
        {
          "output_type": "execute_result",
          "data": {
            "text/html": [
              "<div>\n",
              "<style scoped>\n",
              "    .dataframe tbody tr th:only-of-type {\n",
              "        vertical-align: middle;\n",
              "    }\n",
              "\n",
              "    .dataframe tbody tr th {\n",
              "        vertical-align: top;\n",
              "    }\n",
              "\n",
              "    .dataframe thead th {\n",
              "        text-align: right;\n",
              "    }\n",
              "</style>\n",
              "<table border=\"1\" class=\"dataframe\">\n",
              "  <thead>\n",
              "    <tr style=\"text-align: right;\">\n",
              "      <th></th>\n",
              "      <th>County</th>\n",
              "      <th>Lat</th>\n",
              "      <th>Long</th>\n",
              "    </tr>\n",
              "  </thead>\n",
              "  <tbody>\n",
              "    <tr>\n",
              "      <th>0</th>\n",
              "      <td>Dublin</td>\n",
              "      <td>53.3498</td>\n",
              "      <td>-6.2603</td>\n",
              "    </tr>\n",
              "    <tr>\n",
              "      <th>1</th>\n",
              "      <td>Cork</td>\n",
              "      <td>51.8985</td>\n",
              "      <td>-8.4756</td>\n",
              "    </tr>\n",
              "    <tr>\n",
              "      <th>2</th>\n",
              "      <td>Kildare</td>\n",
              "      <td>53.1589</td>\n",
              "      <td>-6.9096</td>\n",
              "    </tr>\n",
              "    <tr>\n",
              "      <th>3</th>\n",
              "      <td>Galway</td>\n",
              "      <td>53.2707</td>\n",
              "      <td>-9.0568</td>\n",
              "    </tr>\n",
              "    <tr>\n",
              "      <th>4</th>\n",
              "      <td>Meath</td>\n",
              "      <td>53.6055</td>\n",
              "      <td>-6.6564</td>\n",
              "    </tr>\n",
              "  </tbody>\n",
              "</table>\n",
              "</div>"
            ],
            "text/plain": [
              "          County      Lat    Long\n",
              "0  Dublin         53.3498 -6.2603\n",
              "1   Cork          51.8985 -8.4756\n",
              "2   Kildare       53.1589 -6.9096\n",
              "3   Galway        53.2707 -9.0568\n",
              "4   Meath         53.6055 -6.6564"
            ]
          },
          "metadata": {
            "tags": []
          },
          "execution_count": 11
        }
      ]
    },
    {
      "cell_type": "markdown",
      "metadata": {
        "id": "JZNIShr-IqlH",
        "colab_type": "text"
      },
      "source": [
        "After trial and error, I notice that the County field in PPR-all.csv have a space at the end of them. This prevented the two data frames from being merged. To ensure merging was successful we simply replace the space with an empty string. We then want to convert the two dataframe columns to strings so there are no other compatibility issues when merging."
      ]
    },
    {
      "cell_type": "code",
      "metadata": {
        "id": "DIKJWixzWbYz",
        "colab_type": "code",
        "colab": {}
      },
      "source": [
        "df2.County = df2.County.str.replace(' ', '')\n",
        "county_price.County = county_price.County.str.replace(' ', '')\n",
        "df2[\"County\"] = df2[\"County\"].astype(str)\n",
        "county_price[\"County\"] = county_price[\"County\"].astype(str)"
      ],
      "execution_count": 0,
      "outputs": []
    },
    {
      "cell_type": "code",
      "metadata": {
        "id": "hTX1M6o_doSi",
        "colab_type": "code",
        "outputId": "1b273559-9581-4d23-c959-f3025d66dbd3",
        "colab": {
          "base_uri": "https://localhost:8080/",
          "height": 68
        }
      },
      "source": [
        "county_price.dtypes"
      ],
      "execution_count": 0,
      "outputs": [
        {
          "output_type": "execute_result",
          "data": {
            "text/plain": [
              "County    object\n",
              "Price      int64\n",
              "dtype: object"
            ]
          },
          "metadata": {
            "tags": []
          },
          "execution_count": 40
        }
      ]
    },
    {
      "cell_type": "markdown",
      "metadata": {
        "id": "80IYFiuMItw0",
        "colab_type": "text"
      },
      "source": [
        "Next, we merge on 'County'\n"
      ]
    },
    {
      "cell_type": "code",
      "metadata": {
        "id": "0r_RfSMVeFSu",
        "colab_type": "code",
        "colab": {}
      },
      "source": [
        "result = pd.merge(county_price, df2[[\"County\", \"Lat\", \"Long\"]], on=\"County\", how=\"left\")"
      ],
      "execution_count": 0,
      "outputs": []
    },
    {
      "cell_type": "markdown",
      "metadata": {
        "id": "SUQZQPOoGoJh",
        "colab_type": "text"
      },
      "source": [
        "Now, we reorder the columns. Pydeck, which is the library used to visualise the data, must receive the longtitude value first, then the latitude and then the remaining values. \n",
        "\n"
      ]
    },
    {
      "cell_type": "code",
      "metadata": {
        "id": "f_H_1GB2C2cT",
        "colab_type": "code",
        "outputId": "3df0fc2d-a779-4116-e950-c6cf82b2d804",
        "colab": {
          "base_uri": "https://localhost:8080/",
          "height": 204
        }
      },
      "source": [
        "result = result[[\"Long\", \"Lat\", \"County\", \"Price\"]]\n",
        "\n",
        "result.head()\n"
      ],
      "execution_count": 0,
      "outputs": [
        {
          "output_type": "execute_result",
          "data": {
            "text/html": [
              "<div>\n",
              "<style scoped>\n",
              "    .dataframe tbody tr th:only-of-type {\n",
              "        vertical-align: middle;\n",
              "    }\n",
              "\n",
              "    .dataframe tbody tr th {\n",
              "        vertical-align: top;\n",
              "    }\n",
              "\n",
              "    .dataframe thead th {\n",
              "        text-align: right;\n",
              "    }\n",
              "</style>\n",
              "<table border=\"1\" class=\"dataframe\">\n",
              "  <thead>\n",
              "    <tr style=\"text-align: right;\">\n",
              "      <th></th>\n",
              "      <th>Long</th>\n",
              "      <th>Lat</th>\n",
              "      <th>County</th>\n",
              "      <th>Price</th>\n",
              "    </tr>\n",
              "  </thead>\n",
              "  <tbody>\n",
              "    <tr>\n",
              "      <th>0</th>\n",
              "      <td>-6.9341</td>\n",
              "      <td>52.8365</td>\n",
              "      <td>Carlow</td>\n",
              "      <td>175830</td>\n",
              "    </tr>\n",
              "    <tr>\n",
              "      <th>1</th>\n",
              "      <td>-7.3633</td>\n",
              "      <td>53.9897</td>\n",
              "      <td>Cavan</td>\n",
              "      <td>145972</td>\n",
              "    </tr>\n",
              "    <tr>\n",
              "      <th>2</th>\n",
              "      <td>-8.9811</td>\n",
              "      <td>52.9045</td>\n",
              "      <td>Clare</td>\n",
              "      <td>188013</td>\n",
              "    </tr>\n",
              "    <tr>\n",
              "      <th>3</th>\n",
              "      <td>-8.4756</td>\n",
              "      <td>51.8985</td>\n",
              "      <td>Cork</td>\n",
              "      <td>263284</td>\n",
              "    </tr>\n",
              "    <tr>\n",
              "      <th>4</th>\n",
              "      <td>-8.1041</td>\n",
              "      <td>54.6549</td>\n",
              "      <td>Donegal</td>\n",
              "      <td>127542</td>\n",
              "    </tr>\n",
              "  </tbody>\n",
              "</table>\n",
              "</div>"
            ],
            "text/plain": [
              "     Long      Lat   County   Price\n",
              "0 -6.9341  52.8365   Carlow  175830\n",
              "1 -7.3633  53.9897    Cavan  145972\n",
              "2 -8.9811  52.9045    Clare  188013\n",
              "3 -8.4756  51.8985     Cork  263284\n",
              "4 -8.1041  54.6549  Donegal  127542"
            ]
          },
          "metadata": {
            "tags": []
          },
          "execution_count": 15
        }
      ]
    },
    {
      "cell_type": "markdown",
      "metadata": {
        "id": "TGccQVYCIwun",
        "colab_type": "text"
      },
      "source": [
        "Finally we export our dataframes as csv so that our programme can read them from our git repo.\n",
        "\n"
      ]
    },
    {
      "cell_type": "code",
      "metadata": {
        "id": "OjkHyaIwfg8H",
        "colab_type": "code",
        "colab": {}
      },
      "source": [
        "result.to_csv(\"/content/result.csv\", index=False)"
      ],
      "execution_count": 0,
      "outputs": []
    },
    {
      "cell_type": "code",
      "metadata": {
        "id": "q3c4nAgQQNNr",
        "colab_type": "code",
        "colab": {}
      },
      "source": [
        "df.to_csv(\"/content/drive/My Drive/PPR_ALL_Clean\", index=False)"
      ],
      "execution_count": 0,
      "outputs": []
    },
    {
      "cell_type": "code",
      "metadata": {
        "id": "5j7pdtL9NbwI",
        "colab_type": "code",
        "colab": {}
      },
      "source": [
        "df.plot(x='Date', y='Price')"
      ],
      "execution_count": 0,
      "outputs": []
    },
    {
      "cell_type": "code",
      "metadata": {
        "id": "RMkn8CIcNpAg",
        "colab_type": "code",
        "outputId": "079205cf-085a-4efe-84f9-098898fd1e23",
        "colab": {
          "base_uri": "https://localhost:8080/",
          "height": 318
        }
      },
      "source": [
        "df.boxplot(column=['Price'], by=['County'])"
      ],
      "execution_count": 7,
      "outputs": [
        {
          "output_type": "execute_result",
          "data": {
            "text/plain": [
              "<matplotlib.axes._subplots.AxesSubplot at 0x7f8b7b659eb8>"
            ]
          },
          "metadata": {
            "tags": []
          },
          "execution_count": 7
        },
        {
          "output_type": "display_data",
          "data": {
            "image/png": "[encoded data removed]",
            "text/plain": [
              "<Figure size 432x288 with 1 Axes>"
            ]
          },
          "metadata": {
            "tags": []
          }
        }
      ]
    },
    {
      "cell_type": "code",
      "metadata": {
        "id": "TDYdjVsCldvA",
        "colab_type": "code",
        "colab": {
          "base_uri": "https://localhost:8080/",
          "height": 328
        },
        "outputId": "4f262fcd-2a0c-425e-ad89-036ab1fc9651"
      },
      "source": [
        "df.hist(column=\"Price\", bins=25, log=True)"
      ],
      "execution_count": 19,
      "outputs": [
        {
          "output_type": "execute_result",
          "data": {
            "text/plain": [
              "array([[<matplotlib.axes._subplots.AxesSubplot object at 0x7f267f1c6278>]],\n",
              "      dtype=object)"
            ]
          },
          "metadata": {
            "tags": []
          },
          "execution_count": 19
        },
        {
          "output_type": "display_data",
          "data": {
            "image/png": "[encoded data removed]",
            "text/plain": [
              "<Figure size 432x288 with 1 Axes>"
            ]
          },
          "metadata": {
            "tags": []
          }
        }
      ]
    },
    {
      "cell_type": "code",
      "metadata": {
        "id": "fdzhF4rDIJ_N",
        "colab_type": "code",
        "colab": {
          "base_uri": "https://localhost:8080/",
          "height": 280
        },
        "outputId": "604a1cae-0923-4213-c4d4-e81817688b1b"
      },
      "source": [
        "df.plot.scatter(x='Date', y='Price', c='Price', colormap='viridis')"
      ],
      "execution_count": 13,
      "outputs": [
        {
          "output_type": "execute_result",
          "data": {
            "text/plain": [
              "<matplotlib.axes._subplots.AxesSubplot at 0x7f26805f9da0>"
            ]
          },
          "metadata": {
            "tags": []
          },
          "execution_count": 13
        },
        {
          "output_type": "display_data",
          "data": {
            "image/png": "[encoded data removed]",
            "text/plain": [
              "<Figure size 432x288 with 2 Axes>"
            ]
          },
          "metadata": {
            "tags": []
          }
        }
      ]
    },
    {
      "cell_type": "code",
      "metadata": {
        "id": "aJ-j2Tn3R5nS",
        "colab_type": "code",
        "colab": {}
      },
      "source": [
        "# df['Postcode'] = np.select([df['Address'].str.contains('Arklow', case=False), \n",
        "#                             df['Address'].str.contains('Ashbourne', case=False), \n",
        "#                             df['Address'].str.contains('Athenry', case=False), \n",
        "#                             df['Address'].str.contains('Athlone', case=False), \n",
        "#                             df['Address'].str.contains('Athy', case=False), \n",
        "#                             df['Address'].str.contains('Bagenalstown', case=False), \n",
        "#                             df['Address'].str.contains('Balbriggan', case=False), \n",
        "#                             df['Address'].str.contains('Ballina', case=False), \n",
        "#                             df['Address'].str.contains('Ballinasloe', case=False), \n",
        "#                             df['Address'].str.contains('Ballincollig', case=False), \n",
        "#                             df['Address'].str.contains('Ballinrobe', case=False), \n",
        "#                             df['Address'].str.contains('Ballyboughal', case=False), \n",
        "#                             df['Address'].str.contains('Ballyhaunis', case=False), \n",
        "#                             df['Address'].str.contains('Ballymote', case=False), \n",
        "#                             df['Address'].str.contains('Bandon', case=False), \n",
        "#                             df['Address'].str.contains('Bantry', case=False), \n",
        "#                             df['Address'].str.contains('Belturbet', case=False), \n",
        "#                             df['Address'].str.contains('Birr', case=False), \n",
        "#                             df['Address'].str.contains('Blackrock', case=False), \n",
        "#                             df['Address'].str.contains('Boyle', case=False),\n",
        "#                             df['Address'].str.contains('Bray', case=False), \n",
        "#                             df['Address'].str.contains('Bundoran', case=False), \n",
        "#                             df['Address'].str.contains('Caherciveen', case=False), \n",
        "#                             df['Address'].str.contains('Cahir', case=False), \n",
        "#                             df['Address'].str.contains('Carlow', case=False),\n",
        "#                             df['Address'].str.contains('Carrick On Shannon', case=False),                            \n",
        "#                             df['Address'].str.contains('Carrick On Suir', case=False),\n",
        "#                             df['Address'].str.contains('Carrickmacross', case=False),\n",
        "#                             df['Address'].str.contains('Carrigaline', case=False),\n",
        "#                             df['Address'].str.contains('Carrignavar', case=False),\n",
        "#                             df['Address'].str.contains('Cashel', case=False),\n",
        "#                             df['Address'].str.contains('Castlebar', case=False),\n",
        "#                             df['Address'].str.contains('Castleblayney', case=False),\n",
        "#                             df['Address'].str.contains('Castlerea', case=False),\n",
        "#                             df['Address'].str.contains('Cavan', case=False),\n",
        "#                             df['Address'].str.contains('Charleville', case=False),\n",
        "#                             df['Address'].str.contains('Clifden', case=False),\n",
        "#                             df['Address'].str.contains('Clonakilty', case=False),\n",
        "#                             df['Address'].str.contains('Clones', case=False),\n",
        "#                             df['Address'].str.contains('Clonmel', case=False),\n",
        "#                             df['Address'].str.contains('Cobh', case=False),\n",
        "#                             df['Address'].str.contains('Cootehill', case=False),\n",
        "#                             df['Address'].str.contains('Cork City Northside', case=False),\n",
        "#                             df['Address'].str.contains('Cork City Southside', case=False),\n",
        "#                             df['Address'].str.contains('Crookstown', case=False),\n",
        "#                             df['Address'].str.contains('Curragh', case=False),\n",
        "#                             df['Address'].str.contains('Drogheda', case=False),\n",
        "#                             df['Address'].str.contains('Dublin 1', case=False),\n",
        "#                             df['Address'].str.contains('Dublin 10', case=False),\n",
        "#                             df['Address'].str.contains('Dublin 11', case=False),   \n",
        "#                             df['Address'].str.contains('Dublin 12', case=False),\n",
        "#                             df['Address'].str.contains('Dublin 13', case=False),\n",
        "#                             df['Address'].str.contains('Dublin 14', case=False),\n",
        "#                             df['Address'].str.contains('Dublin 15', case=False),\n",
        "#                             df['Address'].str.contains('Dublin 16', case=False),\n",
        "#                             df['Address'].str.contains('Dublin 17', case=False),\n",
        "#                             df['Address'].str.contains('Dublin 18', case=False),\n",
        "#                             df['Address'].str.contains('Dublin 2', case=False),\n",
        "#                             df['Address'].str.contains('Dublin 20', case=False),\n",
        "#                             df['Address'].str.contains('Dublin 22', case=False),\n",
        "#                             df['Address'].str.contains('Dublin 24', case=False),\n",
        "#                             df['Address'].str.contains('Dublin 3', case=False),\n",
        "#                             df['Address'].str.contains('Dublin 4', case=False),\n",
        "#                             df['Address'].str.contains('Dublin 5', case=False),\n",
        "#                             df['Address'].str.contains('Dublin 6', case=False),\n",
        "#                             df['Address'].str.contains('Dublin 6W', case=False),\n",
        "#                             df['Address'].str.contains('Dublin 7', case=False),\n",
        "#                             df['Address'].str.contains('Dublin 8', case=False),\n",
        "#                             df['Address'].str.contains('Dublin 9', case=False),\n",
        "#                             df['Address'].str.contains('Dun Laoghaire', case=False),\n",
        "#                             df['Address'].str.contains('Dunboyne', case=False),\n",
        "#                             df['Address'].str.contains('Dundalk', case=False),\n",
        "#                             df['Address'].str.contains('Dunmanway', case=False),\n",
        "#                             df['Address'].str.contains('Dunshaughlin', case=False),\n",
        "#                             df['Address'].str.contains('Edenderry', case=False),\n",
        "#                             df['Address'].str.contains('Enfield', case=False),\n",
        "#                             df['Address'].str.contains('Enniscorthy', case=False),\n",
        "#                             df['Address'].str.contains('Fermoy', case=False),\n",
        "#                             df['Address'].str.contains('Galway', case=False),\n",
        "#                             df['Address'].str.contains('Garristown', case=False),                                                         \n",
        "#                             df['Address'].str.contains('Glanmire', case=False),\n",
        "#                             df['Address'].str.contains('Gorey', case=False),\n",
        "#                             df['Address'].str.contains('Greystones', case=False),\n",
        "#                             df['Address'].str.contains('Kells', case=False),\n",
        "#                             df['Address'].str.contains('Kenmare', case=False),\n",
        "#                             df['Address'].str.contains('Kildare', case=False),\n",
        "#                             df['Address'].str.contains('Kilkenny', case=False),\n",
        "#                             df['Address'].str.contains('Kilmacthomas', case=False),\n",
        "#                             df['Address'].str.contains('Kilmallock', case=False),\n",
        "#                             df['Address'].str.contains('Kilrush', case=False),\n",
        "#                             df['Address'].str.contains('Kinsale', case=False),\n",
        "#                             df['Address'].str.contains('Knock', case=False),\n",
        "#                             df['Address'].str.contains('Letterkenny', case=False),\n",
        "#                             df['Address'].str.contains('Lifford', case=False),\n",
        "#                             df['Address'].str.contains('Limerick', case=False),\n",
        "#                             df['Address'].str.contains('Listowel', case=False),\n",
        "#                             df['Address'].str.contains('Longford', case=False),\n",
        "#                             df['Address'].str.contains('Loughrea', case=False),\n",
        "#                             df['Address'].str.contains('Lucan', case=False),\n",
        "#                             df['Address'].str.contains('Lusk', case=False),\n",
        "#                             df['Address'].str.contains('Macroom', case=False),\n",
        "#                             df['Address'].str.contains('Malahide', case=False),\n",
        "#                             df['Address'].str.contains('Mallow', case=False),\n",
        "#                             df['Address'].str.contains('Maynooth', case=False),\n",
        "#                             df['Address'].str.contains('Midleton', case=False),\n",
        "#                             df['Address'].str.contains('Miltown Malbay', case=False),\n",
        "#                             df['Address'].str.contains('Mitchelstown', case=False),\n",
        "#                             df['Address'].str.contains('Monaghan', case=False),\n",
        "#                             df['Address'].str.contains('Monasterevin', case=False),\n",
        "#                             df['Address'].str.contains('Mullingar', case=False),\n",
        "#                             df['Address'].str.contains('Naas', case=False),\n",
        "#                             df['Address'].str.contains('Nenagh', case=False),\n",
        "#                             df['Address'].str.contains('New Ross', case=False),\n",
        "#                             df['Address'].str.contains('Newbridge', case=False),\n",
        "#                             df['Address'].str.contains('Newcastle West', case=False),\n",
        "#                             df['Address'].str.contains('Oldtown', case=False),\n",
        "#                             df['Address'].str.contains('Portlaoise', case=False),\n",
        "#                             df['Address'].str.contains('Roscommon', case=False),\n",
        "#                             df['Address'].str.contains('Roscrea', case=False),\n",
        "#                             df['Address'].str.contains('Rush', case=False),\n",
        "#                             df['Address'].str.contains('Rylane', case=False),\n",
        "#                             df['Address'].str.contains('Shannon', case=False),\n",
        "#                             df['Address'].str.contains('Skerries', case=False),\n",
        "#                             df['Address'].str.contains('Skibbereen', case=False),                           \n",
        "#                             df['Address'].str.contains('Sligo', case=False),\n",
        "#                             df['Address'].str.contains('Swords', case=False),\n",
        "#                             df['Address'].str.contains('Thurles', case=False),\n",
        "#                             df['Address'].str.contains('Tipperary', case=False),\n",
        "#                             df['Address'].str.contains('Tralee', case=False),\n",
        "#                             df['Address'].str.contains('Trim', case=False),\n",
        "#                             df['Address'].str.contains('Tuam', case=False),\n",
        "#                             df['Address'].str.contains('Tullamore', case=False),\n",
        "#                             df['Address'].str.contains('Waterford', case=False),\n",
        "#                             df['Address'].str.contains('Watergrasshill', case=False),\n",
        "#                             df['Address'].str.contains('Westport', case=False),\n",
        "#                             df['Address'].str.contains('Wexford', case=False),\n",
        "#                             df['Address'].str.contains('Wicklow', case=False),\n",
        "#                             df['Address'].str.contains('Youghal', case=False),\n",
        "#                             df['County'].str.contains('Carlow', case=False),\n",
        "#                             df['County'].str.contains('Cavan', case=False), \n",
        "#                             df['County'].str.contains('Galway', case=False), \n",
        "#                             df['County'].str.contains('Kildare', case=False), \n",
        "#                             df['County'].str.contains('Kilkenny', case=False), \n",
        "#                             df['County'].str.contains('Limerick', case=False), \n",
        "#                             df['County'].str.contains('Longford', case=False), \n",
        "#                             df['County'].str.contains('Monaghan', case=False), \n",
        "#                             df['County'].str.contains('Roscommon', case=False), \n",
        "#                             df['County'].str.contains('Sligo', case=False),\n",
        "#                             df['County'].str.contains('Tipperary', case=False), \n",
        "#                             df['County'].str.contains('Waterford', case=False), \n",
        "#                             df['County'].str.contains('Wexford', case=False), \n",
        "#                             df['County'].str.contains('Wicklow', case=False)], \n",
        "#                            [\"Y14\",\"A84\",\"H65\",\"N37\",\"R14\",\"R21\", \"K32\", \"F26\", \"H53\", \"P31\", \"F31\", \"A41\", \"F35\", \"F56\", \"P72\", \"P75\", \"H14\", \"R42\", \"A94\", \"F52\", \"A98\", \"F94\", \"V23\", \"E21\", \n",
        "#                             \"R93\",\"N41\",\"E32\",\"A81\",\"P43\",\"T34\",\"E25\",\"F23\",\"A75\",\"F45\",\"H12\",\"P56\",\"H71\",\"P85\",\"H23\",\"E91\",\"P24\",\"H16\",\"T23\",\"T12\",\"P14\",\"R56\",\"A92\",\"D01\",\"D10\",\"D11\",\"D12\",\"D13\",\n",
        "#                             \"D14\",\"D15\",\"D16\",\"D17\",\"D18\",\"D02\",\"D20\",\"D22\",\"D24\",\"D03\",\"D04\",\"D05\",\"D06\",\"D6W\",\"D07\",\"D08\",\"D09\",\"A96\",\"A86\",\"A91\",\"P47\",\"A85\",\"R45\",\"A83\",\"Y21\",\"P61\",\"H91\",\"A42\",\n",
        "#                             \"T45\",\"Y25\",\"A63\",\"A82\",\"V93\",\"R51\",\"R95\",\"X42\",\"V35\",\"V15\",\"P17\",\"F12\",\"F92\",\"F93\",\"V94\",\"V31\",\"N39\",\"H62\",\"K78\",\"K45\",\"P12\",\"K36\",\"P51\",\"W23\",\"P25\",\"V95\",\"P67\",\"H18\",\n",
        "#                             \"W34\",\"N91\",\"W91\",\"E45\",\"Y34\",\"W12\",\"V42\",\"A45\",\"R32\",\"F42\",\"E53\",\"K56\",\"P32\",\"V14\",\"K34\",\"P81\",\"F91\",\"K67\",\"E41\",\"E34\",\"V92\",\"C15\",\"H54\",\"R35\",\"X91\",\"T56\",\"F28\",\"Y35\",\n",
        "#                             \"A67\",\"P36\",\"R93\",\"H12\",\"H91\",\"R51\",\"R95\",\"V94\",\"N39\",\"H18\",\"F42\",\"F91\",\"E34\",\"X91\",\"Y35\",\"A67\"])"
      ],
      "execution_count": 0,
      "outputs": []
    }
  ]
}